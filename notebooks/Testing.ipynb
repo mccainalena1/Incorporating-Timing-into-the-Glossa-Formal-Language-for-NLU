{
 "cells": [
  {
   "cell_type": "code",
   "execution_count": 1,
   "id": "056fa5bd",
   "metadata": {},
   "outputs": [],
   "source": [
    "# Perform standard imports\n",
    "import spacy\n",
    "from spacy.attrs import POS\n",
    "from spacy.attrs import DEP\n",
    "from spacy.matcher import Matcher\n",
    "nlp = spacy.load('en_core_web_lg')"
   ]
  },
  {
   "cell_type": "code",
   "execution_count": 2,
   "id": "165799c5",
   "metadata": {},
   "outputs": [],
   "source": [
    "# Create a simple Doc object\n",
    "doc = nlp(\"Travis played loudly with, or played softly with Nick.\")"
   ]
  },
  {
   "cell_type": "code",
   "execution_count": 7,
   "id": "177780a5",
   "metadata": {},
   "outputs": [
    {
     "data": {
      "text/plain": [
       "'VBD'"
      ]
     },
     "execution_count": 7,
     "metadata": {},
     "output_type": "execute_result"
    }
   ],
   "source": [
    "doc[9].tag_"
   ]
  },
  {
   "cell_type": "code",
   "execution_count": null,
   "id": "8b74aa00",
   "metadata": {},
   "outputs": [],
   "source": []
  }
 ],
 "metadata": {
  "kernelspec": {
   "display_name": "Python 3 (ipykernel)",
   "language": "python",
   "name": "python3"
  },
  "language_info": {
   "codemirror_mode": {
    "name": "ipython",
    "version": 3
   },
   "file_extension": ".py",
   "mimetype": "text/x-python",
   "name": "python",
   "nbconvert_exporter": "python",
   "pygments_lexer": "ipython3",
   "version": "3.9.7"
  }
 },
 "nbformat": 4,
 "nbformat_minor": 5
}
